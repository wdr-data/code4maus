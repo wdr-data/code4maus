{
 "cells": [
  {
   "cell_type": "code",
   "execution_count": 1,
   "metadata": {},
   "outputs": [],
   "source": [
    "from glob import glob\n",
    "import yaml\n",
    "import os\n",
    "import json\n",
    "import re\n",
    "import hashlib\n",
    "import shutil"
   ]
  },
  {
   "cell_type": "code",
   "execution_count": 2,
   "metadata": {},
   "outputs": [],
   "source": [
    "# where to find game.yml\n",
    "repo = '/home/p3nny/code4maus/src/lib/edu/*/game.yml'"
   ]
  },
  {
   "cell_type": "code",
   "execution_count": 3,
   "metadata": {},
   "outputs": [],
   "source": [
    "# use md5 for compring dublicate assets \n",
    "\n",
    "def get_md5(filename):\n",
    "    hash_md5= hashlib.md5()\n",
    "    with open(filename, \"rb\") as f: \n",
    "        for chunk in iter(lambda: f.read(4096), b\"\"):\n",
    "            hash_md5.update(chunk)\n",
    "    return hash_md5.hexdigest()"
   ]
  },
  {
   "cell_type": "code",
   "execution_count": 4,
   "metadata": {},
   "outputs": [],
   "source": [
    "# where to find assets and the new shared_assets folder\n",
    "\n",
    "assets_repo = f'/home/p3nny/code4maus/src/lib/edu/*/assets/*'\n",
    "\n",
    "# make shared assets folder by hand \n",
    "shared = '/home/p3nny/code4maus/src/lib/edu/shared_assets/'"
   ]
  },
  {
   "cell_type": "code",
   "execution_count": 5,
   "metadata": {},
   "outputs": [],
   "source": [
    "def move_file(source, dest):\n",
    "    os.rename(source, f'{shared}{dest}')"
   ]
  },
  {
   "cell_type": "code",
   "execution_count": 6,
   "metadata": {},
   "outputs": [],
   "source": [
    "def imports_to_string(imports):\n",
    "    js = ''\n",
    "    for name, path in imports.items():\n",
    "        js += (f'import {name} from \\'{path}\\';\\n')\n",
    "    return js"
   ]
  },
  {
   "cell_type": "code",
   "execution_count": 7,
   "metadata": {},
   "outputs": [],
   "source": [
    "regex = re.compile('\"asset\": \"(\\w+)\"')"
   ]
  },
  {
   "cell_type": "code",
   "execution_count": 8,
   "metadata": {},
   "outputs": [],
   "source": [
    "def replacer(match):\n",
    "    return f'\"asset\": {match.group(1)}'"
   ]
  },
  {
   "cell_type": "code",
   "execution_count": 9,
   "metadata": {},
   "outputs": [
    {
     "name": "stdout",
     "output_type": "stream",
     "text": [
      "{'herz.png': 'herz.png', '001.jpg': 'start.jpg', 'start.jpg': 'start.jpg', 'super.png': 'super.png', '003.jpg': 'start.jpg', 'gut_gemacht.png': 'gut_gemacht.png', 'L00.png': 'L00.png', 'steuerung.jpg': 'steuerung.jpg', 'frage.jpg': 'frage.jpg', 'speichern.jpg': 'speichern.jpg', 'stop.png': 'stop.png', 'operatoren.png': 'y_05.png', 'y_05.png': 'y_05.png', 'variablen_hand.png': 'variablen_hand.png', 'start.png': 'start.png'}\n"
     ]
    }
   ],
   "source": [
    "# find duplicate assets and move them to shared_assets folder\n",
    "\n",
    "maus_assets = {}\n",
    "shared_assets = {}\n",
    "\n",
    "for asset in glob(assets_repo):\n",
    "    md5 = get_md5(asset)\n",
    "    if md5 in maus_assets:\n",
    "        first_occurence = maus_assets[md5]\n",
    "        move_file(asset, os.path.basename(first_occurence))\n",
    "        shared_assets[os.path.basename(asset)] = os.path.basename(first_occurence)\n",
    "        try: \n",
    "            os.remove(first_occurence)\n",
    "            shared_assets[os.path.basename(first_occurence)] = os.path.basename(first_occurence)\n",
    "        except: \n",
    "            OSError\n",
    "    else:\n",
    "        maus_assets[md5] = asset\n",
    "\n",
    "print(shared_assets)"
   ]
  },
  {
   "cell_type": "code",
   "execution_count": 10,
   "metadata": {},
   "outputs": [],
   "source": [
    "# convert game.yml to game.js and use imports to shared_assets\n",
    "\n",
    "for filename in glob(repo):\n",
    "    js = ''\n",
    "    imports = {}\n",
    "    game_id = os.path.basename(os.path.dirname(filename))        \n",
    "    with open(filename, \"r\") as f:\n",
    "        game = yaml.safe_load(f)\n",
    "        for i, slide in enumerate(game['slides']):\n",
    "            if 'asset' not in slide:\n",
    "                continue\n",
    "            asset = slide['asset']\n",
    "            import_name = f'a{os.path.splitext(asset)[0]}'\n",
    "            slide['asset'] = import_name\n",
    "            if import_name not in imports:\n",
    "                if asset in shared_assets:\n",
    "                    imports[import_name] = f'../shared_assets/{shared_assets[asset]}'\n",
    "                else:\n",
    "                    imports[import_name] = f'./assets/{asset}'\n",
    "        f.close()\n",
    "    js += imports_to_string(imports)\n",
    "    js += '\\n'\n",
    "    js += 'export default '\n",
    "    js += json.dumps(game, indent=4, ensure_ascii=False)\n",
    "    nicer_js = regex.sub(replacer, js)\n",
    "    outpath = f'/home/p3nny/code4maus/src/lib/edu/{game_id}/game.js'\n",
    "    with open(outpath, 'w', encoding='utf-8') as f:\n",
    "        f.write(nicer_js)\n",
    "        f.close()"
   ]
  },
  {
   "cell_type": "code",
   "execution_count": 11,
   "metadata": {},
   "outputs": [],
   "source": [
    "# remove unused assets\n",
    "\n",
    "for filename in glob(repo):\n",
    "    game_id = os.path.basename(os.path.dirname(filename)) \n",
    "    all_assets = glob(f'/home/p3nny/code4maus/src/lib/edu/{game_id}/assets/*')\n",
    "    assets = [os.path.basename(path) for path in all_assets]\n",
    "    with open(filename, \"r\") as f:\n",
    "        game = yaml.safe_load(f)\n",
    "        for slide in game['slides']:\n",
    "            if slide['asset'] in assets:\n",
    "                assets.remove(slide['asset'])\n",
    "        for asset in assets:\n",
    "            os.remove(f'/home/p3nny/code4maus/src/lib/edu/{game_id}/assets/{asset}')"
   ]
  },
  {
   "cell_type": "code",
   "execution_count": null,
   "metadata": {},
   "outputs": [],
   "source": [
    "# "
   ]
  },
  {
   "cell_type": "code",
   "execution_count": 12,
   "metadata": {},
   "outputs": [],
   "source": [
    "renames = {\n",
    "'./01/assets/L01.png': './01/thumb.png',\n",
    "'./02/assets/L02.png': './02/thumb.png',\n",
    "'./03/assets/L03.png': './03/thumb.png',\n",
    "'./04/assets/L04.png': './04/thumb.png',\n",
    "'./05/assets/L05.png': './05/thumb.png',\n",
    "'./04_a/assets/StadtLandEnte.png': './04_a/thumb.png',\n",
    "'./04_b/assets/Mathefant.png': './04_b/thumb.png',\n",
    "'./04_c/assets/L00.png': './04_c/thumb.png'\n",
    "}"
   ]
  },
  {
   "cell_type": "code",
   "execution_count": 13,
   "metadata": {},
   "outputs": [
    {
     "ename": "FileNotFoundError",
     "evalue": "[Errno 2] No such file or directory: '/home/p3nny/code4maus/src/lib/edu/04_c/assets/L00.png'",
     "output_type": "error",
     "traceback": [
      "\u001b[0;31m---------------------------------------------------------------------------\u001b[0m",
      "\u001b[0;31mFileNotFoundError\u001b[0m                         Traceback (most recent call last)",
      "\u001b[0;32m<ipython-input-13-af60e814ae42>\u001b[0m in \u001b[0;36m<module>\u001b[0;34m\u001b[0m\n\u001b[1;32m      2\u001b[0m     \u001b[0moldpath_abs\u001b[0m \u001b[0;34m=\u001b[0m \u001b[0mos\u001b[0m\u001b[0;34m.\u001b[0m\u001b[0mpath\u001b[0m\u001b[0;34m.\u001b[0m\u001b[0mjoin\u001b[0m\u001b[0;34m(\u001b[0m\u001b[0;34m'/home/p3nny/code4maus/src/lib/edu/'\u001b[0m\u001b[0;34m,\u001b[0m \u001b[0moldpath\u001b[0m\u001b[0;34m[\u001b[0m\u001b[0;36m2\u001b[0m\u001b[0;34m:\u001b[0m\u001b[0;34m]\u001b[0m\u001b[0;34m)\u001b[0m\u001b[0;34m\u001b[0m\u001b[0;34m\u001b[0m\u001b[0m\n\u001b[1;32m      3\u001b[0m     \u001b[0mnewpath_abs\u001b[0m \u001b[0;34m=\u001b[0m \u001b[0mos\u001b[0m\u001b[0;34m.\u001b[0m\u001b[0mpath\u001b[0m\u001b[0;34m.\u001b[0m\u001b[0mjoin\u001b[0m\u001b[0;34m(\u001b[0m\u001b[0;34m'/home/p3nny/code4maus/src/lib/edu/'\u001b[0m\u001b[0;34m,\u001b[0m \u001b[0mnewpath\u001b[0m\u001b[0;34m[\u001b[0m\u001b[0;36m2\u001b[0m\u001b[0;34m:\u001b[0m\u001b[0;34m]\u001b[0m\u001b[0;34m)\u001b[0m\u001b[0;34m\u001b[0m\u001b[0;34m\u001b[0m\u001b[0m\n\u001b[0;32m----> 4\u001b[0;31m     \u001b[0mshutil\u001b[0m\u001b[0;34m.\u001b[0m\u001b[0mcopyfile\u001b[0m\u001b[0;34m(\u001b[0m\u001b[0moldpath_abs\u001b[0m\u001b[0;34m,\u001b[0m \u001b[0mnewpath_abs\u001b[0m\u001b[0;34m)\u001b[0m\u001b[0;34m\u001b[0m\u001b[0;34m\u001b[0m\u001b[0m\n\u001b[0m",
      "\u001b[0;32m~/.local/share/virtualenvs/r1-7Gfrdj-1/lib/python3.6/shutil.py\u001b[0m in \u001b[0;36mcopyfile\u001b[0;34m(src, dst, follow_symlinks)\u001b[0m\n\u001b[1;32m    118\u001b[0m         \u001b[0mos\u001b[0m\u001b[0;34m.\u001b[0m\u001b[0msymlink\u001b[0m\u001b[0;34m(\u001b[0m\u001b[0mos\u001b[0m\u001b[0;34m.\u001b[0m\u001b[0mreadlink\u001b[0m\u001b[0;34m(\u001b[0m\u001b[0msrc\u001b[0m\u001b[0;34m)\u001b[0m\u001b[0;34m,\u001b[0m \u001b[0mdst\u001b[0m\u001b[0;34m)\u001b[0m\u001b[0;34m\u001b[0m\u001b[0;34m\u001b[0m\u001b[0m\n\u001b[1;32m    119\u001b[0m     \u001b[0;32melse\u001b[0m\u001b[0;34m:\u001b[0m\u001b[0;34m\u001b[0m\u001b[0;34m\u001b[0m\u001b[0m\n\u001b[0;32m--> 120\u001b[0;31m         \u001b[0;32mwith\u001b[0m \u001b[0mopen\u001b[0m\u001b[0;34m(\u001b[0m\u001b[0msrc\u001b[0m\u001b[0;34m,\u001b[0m \u001b[0;34m'rb'\u001b[0m\u001b[0;34m)\u001b[0m \u001b[0;32mas\u001b[0m \u001b[0mfsrc\u001b[0m\u001b[0;34m:\u001b[0m\u001b[0;34m\u001b[0m\u001b[0;34m\u001b[0m\u001b[0m\n\u001b[0m\u001b[1;32m    121\u001b[0m             \u001b[0;32mwith\u001b[0m \u001b[0mopen\u001b[0m\u001b[0;34m(\u001b[0m\u001b[0mdst\u001b[0m\u001b[0;34m,\u001b[0m \u001b[0;34m'wb'\u001b[0m\u001b[0;34m)\u001b[0m \u001b[0;32mas\u001b[0m \u001b[0mfdst\u001b[0m\u001b[0;34m:\u001b[0m\u001b[0;34m\u001b[0m\u001b[0;34m\u001b[0m\u001b[0m\n\u001b[1;32m    122\u001b[0m                 \u001b[0mcopyfileobj\u001b[0m\u001b[0;34m(\u001b[0m\u001b[0mfsrc\u001b[0m\u001b[0;34m,\u001b[0m \u001b[0mfdst\u001b[0m\u001b[0;34m)\u001b[0m\u001b[0;34m\u001b[0m\u001b[0;34m\u001b[0m\u001b[0m\n",
      "\u001b[0;31mFileNotFoundError\u001b[0m: [Errno 2] No such file or directory: '/home/p3nny/code4maus/src/lib/edu/04_c/assets/L00.png'"
     ]
    }
   ],
   "source": [
    "for oldpath, newpath in renames.items():\n",
    "    oldpath_abs = os.path.join('/home/p3nny/code4maus/src/lib/edu/', oldpath[2:])\n",
    "    newpath_abs = os.path.join('/home/p3nny/code4maus/src/lib/edu/', newpath[2:])\n",
    "    shutil.copyfile(oldpath_abs, newpath_abs)"
   ]
  },
  {
   "cell_type": "code",
   "execution_count": null,
   "metadata": {},
   "outputs": [],
   "source": [
    "with open('/home/p3nny/code4maus/src/lib/edu/index.js', 'r') as f:\n",
    "    index = f.read()\n",
    "    f.close()\n",
    "    for oldpath, newpath in renames.items():\n",
    "        index = index.replace(oldpath, newpath)\n",
    "    with open('/home/p3nny/code4maus/src/lib/edu/index.js', 'w') as g:\n",
    "        g.write(index)\n",
    "        g.close()"
   ]
  },
  {
   "cell_type": "markdown",
   "metadata": {},
   "source": [
    "## File conversion: .gif to .mp4 and .png to .jpg "
   ]
  },
  {
   "cell_type": "raw",
   "metadata": {},
   "source": [
    "# List files with specific types\n",
    "ls -l *.gif *.mp4\n",
    "\n",
    "# Convert single .gif to .mp4 via ffmpeg\n",
    "ffmpeg -f gif -i 01.gif -q 65 01.mp4  \n",
    "\n",
    "# Convert all .jpg files to png with 65% quality\n",
    "mogrify -format jpg -quality 65 *.png \n",
    "\n",
    "# Remove all files with specific file type\n",
    "rm *.gif "
   ]
  },
  {
   "cell_type": "code",
   "execution_count": null,
   "metadata": {},
   "outputs": [],
   "source": []
  }
 ],
 "metadata": {
  "kernelspec": {
   "display_name": "Python 3",
   "language": "python",
   "name": "python3"
  },
  "language_info": {
   "codemirror_mode": {
    "name": "ipython",
    "version": 3
   },
   "file_extension": ".py",
   "mimetype": "text/x-python",
   "name": "python",
   "nbconvert_exporter": "python",
   "pygments_lexer": "ipython3",
   "version": "3.6.7"
  }
 },
 "nbformat": 4,
 "nbformat_minor": 2
}
